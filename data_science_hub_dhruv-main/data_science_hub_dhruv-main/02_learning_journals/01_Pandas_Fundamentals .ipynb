{
 "cells": [
  {
   "cell_type": "code",
   "execution_count": 1,
   "id": "705a9564",
   "metadata": {},
   "outputs": [],
   "source": [
    "#Netflix Analytics EDA\n",
    "#Author: Dhruv Sharma\n",
    "#Date: 2025-10-23\n",
    "\n",
    "import pandas as pd\n",
    "import numpy as np\n",
    "import matplotlib.pyplot as plt \n",
    "import seaborn as sns\n"
   ]
  },
  {
   "cell_type": "code",
   "execution_count": 2,
   "id": "0598475d",
   "metadata": {},
   "outputs": [],
   "source": [
    "# =============================================================\n",
    "# PANDAS LEARNING - SECTION 1 : LOADING DATA & BASIC INSPECTION\n",
    "# ============================================================="
   ]
  },
  {
   "cell_type": "code",
   "execution_count": 3,
   "id": "d4c5b814",
   "metadata": {},
   "outputs": [
    {
     "name": "stdout",
     "output_type": "stream",
     "text": [
      "Data Loaded Successfully!\n",
      "======================================================================\n"
     ]
    }
   ],
   "source": [
    "#Load dataset\n",
    "df = pd.read_csv('netflix_titles.csv')\n",
    "\n",
    "print('Data Loaded Successfully!')\n",
    "print('='*70)"
   ]
  },
  {
   "cell_type": "code",
   "execution_count": 4,
   "id": "cb0879c6",
   "metadata": {},
   "outputs": [],
   "source": [
    "# =============================================================\n",
    "# BASIC INSPECTION METHODS - Getting to know the data\n",
    "# ============================================================="
   ]
  },
  {
   "cell_type": "code",
   "execution_count": 5,
   "id": "d423eff3",
   "metadata": {},
   "outputs": [
    {
     "name": "stdout",
     "output_type": "stream",
     "text": [
      "\n",
      " Shape of DataFrame:\n",
      "(8807, 12)\n",
      "Translation: 8,807 rows * 12 columns\n"
     ]
    }
   ],
   "source": [
    "# .shape - Tells you (number of rows, number of columns)\n",
    "print(f\"\\n Shape of DataFrame:\")\n",
    "print(f\"{df.shape}\")\n",
    "print(f\"Translation: {df.shape[0]:,} rows * {df.shape[1]} columns\")"
   ]
  },
  {
   "cell_type": "code",
   "execution_count": 6,
   "id": "ec47857d",
   "metadata": {},
   "outputs": [
    {
     "name": "stdout",
     "output_type": "stream",
     "text": [
      "\n",
      " Head of DataFrame:\n",
      "  show_id     type                  title         director  \\\n",
      "0      s1    Movie   Dick Johnson Is Dead  Kirsten Johnson   \n",
      "1      s2  TV Show          Blood & Water              NaN   \n",
      "2      s3  TV Show              Ganglands  Julien Leclercq   \n",
      "3      s4  TV Show  Jailbirds New Orleans              NaN   \n",
      "4      s5  TV Show           Kota Factory              NaN   \n",
      "\n",
      "                                                cast        country  \\\n",
      "0                                                NaN  United States   \n",
      "1  Ama Qamata, Khosi Ngema, Gail Mabalane, Thaban...   South Africa   \n",
      "2  Sami Bouajila, Tracy Gotoas, Samuel Jouy, Nabi...            NaN   \n",
      "3                                                NaN            NaN   \n",
      "4  Mayur More, Jitendra Kumar, Ranjan Raj, Alam K...          India   \n",
      "\n",
      "           date_added  release_year rating   duration  \\\n",
      "0  September 25, 2021          2020  PG-13     90 min   \n",
      "1  September 24, 2021          2021  TV-MA  2 Seasons   \n",
      "2  September 24, 2021          2021  TV-MA   1 Season   \n",
      "3  September 24, 2021          2021  TV-MA   1 Season   \n",
      "4  September 24, 2021          2021  TV-MA  2 Seasons   \n",
      "\n",
      "                                           listed_in  \\\n",
      "0                                      Documentaries   \n",
      "1    International TV Shows, TV Dramas, TV Mysteries   \n",
      "2  Crime TV Shows, International TV Shows, TV Act...   \n",
      "3                             Docuseries, Reality TV   \n",
      "4  International TV Shows, Romantic TV Shows, TV ...   \n",
      "\n",
      "                                         description  \n",
      "0  As her father nears the end of his life, filmm...  \n",
      "1  After crossing paths at a party, a Cape Town t...  \n",
      "2  To protect his family from a powerful drug lor...  \n",
      "3  Feuds, flirtations and toilet talk go down amo...  \n",
      "4  In a city of coaching centers known to train I...  \n"
     ]
    }
   ],
   "source": [
    "# .head - Tells you first 5 rows by default, this is usually your first look at any dataset\n",
    "print(f\"\\n Head of DataFrame:\")\n",
    "print(f\"{df.head()}\")\n"
   ]
  },
  {
   "cell_type": "code",
   "execution_count": 7,
   "id": "78bd1eeb",
   "metadata": {},
   "outputs": [
    {
     "name": "stdout",
     "output_type": "stream",
     "text": [
      "\n",
      " Tail of DataFrame:\n",
      "     show_id     type        title         director  \\\n",
      "8802   s8803    Movie       Zodiac    David Fincher   \n",
      "8803   s8804  TV Show  Zombie Dumb              NaN   \n",
      "8804   s8805    Movie   Zombieland  Ruben Fleischer   \n",
      "8805   s8806    Movie         Zoom     Peter Hewitt   \n",
      "8806   s8807    Movie       Zubaan      Mozez Singh   \n",
      "\n",
      "                                                   cast        country  \\\n",
      "8802  Mark Ruffalo, Jake Gyllenhaal, Robert Downey J...  United States   \n",
      "8803                                                NaN            NaN   \n",
      "8804  Jesse Eisenberg, Woody Harrelson, Emma Stone, ...  United States   \n",
      "8805  Tim Allen, Courteney Cox, Chevy Chase, Kate Ma...  United States   \n",
      "8806  Vicky Kaushal, Sarah-Jane Dias, Raaghav Chanan...          India   \n",
      "\n",
      "             date_added  release_year rating   duration  \\\n",
      "8802  November 20, 2019          2007      R    158 min   \n",
      "8803       July 1, 2019          2018  TV-Y7  2 Seasons   \n",
      "8804   November 1, 2019          2009      R     88 min   \n",
      "8805   January 11, 2020          2006     PG     88 min   \n",
      "8806      March 2, 2019          2015  TV-14    111 min   \n",
      "\n",
      "                                           listed_in  \\\n",
      "8802                  Cult Movies, Dramas, Thrillers   \n",
      "8803          Kids' TV, Korean TV Shows, TV Comedies   \n",
      "8804                         Comedies, Horror Movies   \n",
      "8805              Children & Family Movies, Comedies   \n",
      "8806  Dramas, International Movies, Music & Musicals   \n",
      "\n",
      "                                            description  \n",
      "8802  A political cartoonist, a crime reporter and a...  \n",
      "8803  While living alone in a spooky town, a young g...  \n",
      "8804  Looking to survive in a world taken over by zo...  \n",
      "8805  Dragged from civilian life, a former superhero...  \n",
      "8806  A scrappy but poor boy worms his way into a ty...  \n"
     ]
    }
   ],
   "source": [
    "# .tail - Tells you last 5 rows by default, this is usually your first look at any dataset\n",
    "print(f\"\\n Tail of DataFrame:\")\n",
    "print(f\"{df.tail()}\")\n"
   ]
  },
  {
   "cell_type": "code",
   "execution_count": 8,
   "id": "44d643d5",
   "metadata": {},
   "outputs": [
    {
     "name": "stdout",
     "output_type": "stream",
     "text": [
      "\n",
      " Columns of DataFrame:\n",
      "['show_id', 'type', 'title', 'director', 'cast', 'country', 'date_added', 'release_year', 'rating', 'duration', 'listed_in', 'description']\n"
     ]
    }
   ],
   "source": [
    "# .columns - Tells you all column names of data set\n",
    "print(f\"\\n Columns of DataFrame:\")\n",
    "print(f\"{df.columns.tolist()}\")\n"
   ]
  },
  {
   "cell_type": "code",
   "execution_count": 9,
   "id": "e9071a2d",
   "metadata": {},
   "outputs": [
    {
     "name": "stdout",
     "output_type": "stream",
     "text": [
      "\n",
      " Data Types of the Columns of DataFrame:\n",
      "show_id         object\n",
      "type            object\n",
      "title           object\n",
      "director        object\n",
      "cast            object\n",
      "country         object\n",
      "date_added      object\n",
      "release_year     int64\n",
      "rating          object\n",
      "duration        object\n",
      "listed_in       object\n",
      "description     object\n",
      "dtype: object\n"
     ]
    }
   ],
   "source": [
    "# .dtypes - Tells you data types of all columns of data set\n",
    "print(f\"\\n Data Types of the Columns of DataFrame:\")\n",
    "print(f\"{df.dtypes}\")\n"
   ]
  },
  {
   "cell_type": "code",
   "execution_count": 10,
   "id": "bd303857",
   "metadata": {},
   "outputs": [
    {
     "name": "stdout",
     "output_type": "stream",
     "text": [
      "\n",
      " Info of DataFrame:\n",
      "<class 'pandas.core.frame.DataFrame'>\n",
      "RangeIndex: 8807 entries, 0 to 8806\n",
      "Data columns (total 12 columns):\n",
      " #   Column        Non-Null Count  Dtype \n",
      "---  ------        --------------  ----- \n",
      " 0   show_id       8807 non-null   object\n",
      " 1   type          8807 non-null   object\n",
      " 2   title         8807 non-null   object\n",
      " 3   director      6173 non-null   object\n",
      " 4   cast          7982 non-null   object\n",
      " 5   country       7976 non-null   object\n",
      " 6   date_added    8797 non-null   object\n",
      " 7   release_year  8807 non-null   int64 \n",
      " 8   rating        8803 non-null   object\n",
      " 9   duration      8804 non-null   object\n",
      " 10  listed_in     8807 non-null   object\n",
      " 11  description   8807 non-null   object\n",
      "dtypes: int64(1), object(11)\n",
      "memory usage: 825.8+ KB\n",
      "None\n"
     ]
    }
   ],
   "source": [
    "# .info - Tells you column names, non null counts, data types, memory usage\n",
    "print(f\"\\n Info of DataFrame:\")\n",
    "print(f\"{df.info()}\")\n"
   ]
  },
  {
   "cell_type": "code",
   "execution_count": 11,
   "id": "882d9326",
   "metadata": {},
   "outputs": [],
   "source": [
    "# =============================================================\n",
    "# PANDAS LEARNING - SECTION 2 : SELECTING DATA\n",
    "# ============================================================="
   ]
  },
  {
   "cell_type": "code",
   "execution_count": 12,
   "id": "dcff9667",
   "metadata": {},
   "outputs": [
    {
     "name": "stdout",
     "output_type": "stream",
     "text": [
      "Just the titles (first 5):\n",
      "0     Dick Johnson Is Dead\n",
      "1            Blood & Water\n",
      "2                Ganglands\n",
      "3    Jailbirds New Orleans\n",
      "4             Kota Factory\n",
      "Name: title, dtype: object\n",
      "Type: <class 'pandas.core.series.Series'>\n"
     ]
    }
   ],
   "source": [
    "# Method 1 : Selecting Columns\n",
    "titles = df['title']\n",
    "print(\"Just the titles (first 5):\")\n",
    "print(titles.head())\n",
    "# Column as Np Series\n",
    "print(f\"Type: {type(titles)}\")"
   ]
  },
  {
   "cell_type": "code",
   "execution_count": 13,
   "id": "02fab4f7",
   "metadata": {},
   "outputs": [
    {
     "name": "stdout",
     "output_type": "stream",
     "text": [
      "Multiple columns (first 5):\n",
      "                   title     type  release_year\n",
      "0   Dick Johnson Is Dead    Movie          2020\n",
      "1          Blood & Water  TV Show          2021\n",
      "2              Ganglands  TV Show          2021\n",
      "3  Jailbirds New Orleans  TV Show          2021\n",
      "4           Kota Factory  TV Show          2021\n",
      "Type: <class 'pandas.core.frame.DataFrame'>\n"
     ]
    }
   ],
   "source": [
    "#Multiple Columns: Returns a DataFrame (2-D)\n",
    "subset = df[['title','type','release_year']]\n",
    "print('Multiple columns (first 5):')\n",
    "print(subset.head())\n",
    "print(f\"Type: {type(subset)}\")"
   ]
  },
  {
   "cell_type": "code",
   "execution_count": 14,
   "id": "85e895a9",
   "metadata": {},
   "outputs": [],
   "source": [
    "#Method 2 : Use LOC"
   ]
  },
  {
   "cell_type": "code",
   "execution_count": 15,
   "id": "e527d1b2",
   "metadata": {},
   "outputs": [
    {
     "name": "stdout",
     "output_type": "stream",
     "text": [
      "Row 0 using .loc[0]:\n",
      "show_id                                                        s1\n",
      "type                                                        Movie\n",
      "title                                        Dick Johnson Is Dead\n",
      "director                                          Kirsten Johnson\n",
      "cast                                                          NaN\n",
      "country                                             United States\n",
      "date_added                                     September 25, 2021\n",
      "release_year                                                 2020\n",
      "rating                                                      PG-13\n",
      "duration                                                   90 min\n",
      "listed_in                                           Documentaries\n",
      "description     As her father nears the end of his life, filmm...\n",
      "Name: 0, dtype: object\n",
      "\n"
     ]
    }
   ],
   "source": [
    "print(\"Row 0 using .loc[0]:\")\n",
    "print(df.loc[0])\n",
    "print()"
   ]
  },
  {
   "cell_type": "code",
   "execution_count": 16,
   "id": "932a894b",
   "metadata": {},
   "outputs": [],
   "source": [
    "#Get rows 0 to 4, only specific columns"
   ]
  },
  {
   "cell_type": "code",
   "execution_count": 17,
   "id": "2281f336",
   "metadata": {},
   "outputs": [
    {
     "name": "stdout",
     "output_type": "stream",
     "text": [
      "Rows 0-4, specific columns:\n",
      "                   title     type rating\n",
      "0   Dick Johnson Is Dead    Movie  PG-13\n",
      "1          Blood & Water  TV Show  TV-MA\n",
      "2              Ganglands  TV Show  TV-MA\n",
      "3  Jailbirds New Orleans  TV Show  TV-MA\n",
      "4           Kota Factory  TV Show  TV-MA\n",
      "\n"
     ]
    }
   ],
   "source": [
    "print(\"Rows 0-4, specific columns:\")\n",
    "print(df.loc[0:4, ['title','type','rating']])\n",
    "print()"
   ]
  },
  {
   "cell_type": "code",
   "execution_count": 18,
   "id": "a2e7cd44",
   "metadata": {},
   "outputs": [
    {
     "name": "stdout",
     "output_type": "stream",
     "text": [
      "All rows, just title and director (first 5):\n",
      "                   title         director\n",
      "0   Dick Johnson Is Dead  Kirsten Johnson\n",
      "1          Blood & Water              NaN\n",
      "2              Ganglands  Julien Leclercq\n",
      "3  Jailbirds New Orleans              NaN\n",
      "4           Kota Factory              NaN\n"
     ]
    }
   ],
   "source": [
    "#Get all rows, spcific columns (: means \"all\")\n",
    "print(\"All rows, just title and director (first 5):\")\n",
    "print(df.loc[:,['title','director']].head())"
   ]
  },
  {
   "cell_type": "code",
   "execution_count": 19,
   "id": "83dba717",
   "metadata": {},
   "outputs": [],
   "source": [
    "#Method 3: Use iloc, Select by INTEGER POSITION (like array indexing)"
   ]
  },
  {
   "cell_type": "code",
   "execution_count": 20,
   "id": "12e5994a",
   "metadata": {},
   "outputs": [
    {
     "name": "stdout",
     "output_type": "stream",
     "text": [
      "First row using .iloc[0]:\n",
      "show_id                                                        s1\n",
      "type                                                        Movie\n",
      "title                                        Dick Johnson Is Dead\n",
      "director                                          Kirsten Johnson\n",
      "cast                                                          NaN\n",
      "country                                             United States\n",
      "date_added                                     September 25, 2021\n",
      "release_year                                                 2020\n",
      "rating                                                      PG-13\n",
      "duration                                                   90 min\n",
      "listed_in                                           Documentaries\n",
      "description     As her father nears the end of his life, filmm...\n",
      "Name: 0, dtype: object\n"
     ]
    }
   ],
   "source": [
    "print(\"First row using .iloc[0]:\")\n",
    "print(df.iloc[0])"
   ]
  },
  {
   "cell_type": "code",
   "execution_count": 21,
   "id": "c1f5df51",
   "metadata": {},
   "outputs": [
    {
     "name": "stdout",
     "output_type": "stream",
     "text": [
      "Get first 5 rows, first 3 columns:\n",
      "  show_id     type                  title\n",
      "0      s1    Movie   Dick Johnson Is Dead\n",
      "1      s2  TV Show          Blood & Water\n",
      "2      s3  TV Show              Ganglands\n",
      "3      s4  TV Show  Jailbirds New Orleans\n",
      "4      s5  TV Show           Kota Factory\n",
      "\n"
     ]
    }
   ],
   "source": [
    "print(\"Get first 5 rows, first 3 columns:\")\n",
    "print(df.iloc[0:5,0:3])\n",
    "print()"
   ]
  },
  {
   "cell_type": "code",
   "execution_count": 22,
   "id": "fb217950",
   "metadata": {},
   "outputs": [
    {
     "name": "stdout",
     "output_type": "stream",
     "text": [
      "Get specific rows and columns by position:\n",
      "                                  title  \\\n",
      "0                  Dick Johnson Is Dead   \n",
      "5                         Midnight Mass   \n",
      "10  Vendetta: Truth, Lies and The Mafia   \n",
      "\n",
      "                                                 cast  release_year  \n",
      "0                                                 NaN          2020  \n",
      "5   Kate Siegel, Zach Gilford, Hamish Linklater, H...          2021  \n",
      "10                                                NaN          2021  \n"
     ]
    }
   ],
   "source": [
    "print(\"Get specific rows and columns by position:\")\n",
    "print(df.iloc[[0,5,10],[2,4,7]])"
   ]
  },
  {
   "cell_type": "code",
   "execution_count": 23,
   "id": "dcd962e7",
   "metadata": {},
   "outputs": [
    {
     "name": "stdout",
     "output_type": "stream",
     "text": [
      "📌 Single value using .loc: Dick Johnson Is Dead\n",
      "📌 Single value using .iloc: Dick Johnson Is Dead\n",
      "📌 Single value using .at: Dick Johnson Is Dead\n",
      "📌 Single value using .iat: Dick Johnson Is Dead\n",
      "\n"
     ]
    }
   ],
   "source": [
    "# ============================================================================\n",
    "# METHOD 4: Getting a SINGLE VALUE\n",
    "# ============================================================================\n",
    "\n",
    "# Using .loc with row label and column name\n",
    "single_value = df.loc[0, 'title']\n",
    "print(f\"📌 Single value using .loc: {single_value}\")\n",
    "\n",
    "# Using .iloc with positions\n",
    "single_value2 = df.iloc[0, 2]  # Row 0, Column 2\n",
    "print(f\"📌 Single value using .iloc: {single_value2}\")\n",
    "\n",
    "# Using .at (faster for single value with labels)\n",
    "single_value3 = df.at[0, 'title']\n",
    "print(f\"📌 Single value using .at: {single_value3}\")\n",
    "\n",
    "# Using .iat (faster for single value with positions)\n",
    "single_value4 = df.iat[0, 2]\n",
    "print(f\"📌 Single value using .iat: {single_value4}\")\n",
    "print()"
   ]
  },
  {
   "cell_type": "code",
   "execution_count": 24,
   "id": "e07d2eb0",
   "metadata": {},
   "outputs": [
    {
     "name": "stdout",
     "output_type": "stream",
     "text": [
      "======================================================================\n",
      "📚 SELECTION METHODS SUMMARY:\n",
      "======================================================================\n",
      "df['column']              → Select single column (Series)\n",
      "df[['col1', 'col2']]      → Select multiple columns (DataFrame)\n",
      "df.loc[0]                 → Select row by label\n",
      "df.loc[0:5, 'title']      → Rows 0-5, column 'title'\n",
      "df.iloc[0]                → Select row by position\n",
      "df.iloc[0:5, 0:3]         → First 5 rows, first 3 columns\n",
      "df.at[0, 'title']         → Single value (fast, by label)\n",
      "df.iat[0, 2]              → Single value (fast, by position)\n",
      "======================================================================\n"
     ]
    }
   ],
   "source": [
    "print(\"=\"*70)\n",
    "print(\"📚 SELECTION METHODS SUMMARY:\")\n",
    "print(\"=\"*70)\n",
    "print(\"df['column']              → Select single column (Series)\")\n",
    "print(\"df[['col1', 'col2']]      → Select multiple columns (DataFrame)\")\n",
    "print(\"df.loc[0]                 → Select row by label\")\n",
    "print(\"df.loc[0:5, 'title']      → Rows 0-5, column 'title'\")\n",
    "print(\"df.iloc[0]                → Select row by position\")\n",
    "print(\"df.iloc[0:5, 0:3]         → First 5 rows, first 3 columns\")\n",
    "print(\"df.at[0, 'title']         → Single value (fast, by label)\")\n",
    "print(\"df.iat[0, 2]              → Single value (fast, by position)\")\n",
    "print(\"=\"*70)"
   ]
  },
  {
   "cell_type": "code",
   "execution_count": 25,
   "id": "28e2fd55",
   "metadata": {},
   "outputs": [],
   "source": [
    "# ============================================================================\n",
    "# PANDAS LEARNING - SECTION 3: FILTERING DATA\n",
    "# ============================================================================\n",
    "# This is WHERE THE MAGIC HAPPENS! \n",
    "# Boolean indexing lets you filter data based on conditions\n",
    "# ============================================================================\n"
   ]
  },
  {
   "cell_type": "code",
   "execution_count": 26,
   "id": "89fb8dfd",
   "metadata": {},
   "outputs": [],
   "source": [
    "# ============================================================================\n",
    "# UNDERSTANDING BOOLEAN INDEXING\n",
    "# ============================================================================\n",
    "#Step 1: Create a condition (returns True/False for each row)"
   ]
  },
  {
   "cell_type": "code",
   "execution_count": 27,
   "id": "405462b7",
   "metadata": {},
   "outputs": [
    {
     "name": "stdout",
     "output_type": "stream",
     "text": [
      "What does a condition look like?\n",
      "0     True\n",
      "1    False\n",
      "2    False\n",
      "3    False\n",
      "4    False\n",
      "5    False\n",
      "6     True\n",
      "7     True\n",
      "8    False\n",
      "9     True\n",
      "Name: type, dtype: bool\n"
     ]
    }
   ],
   "source": [
    "condition = df['type'] == 'Movie'\n",
    "print(\"What does a condition look like?\")\n",
    "print(condition.head(10))"
   ]
  },
  {
   "cell_type": "code",
   "execution_count": 28,
   "id": "761159df",
   "metadata": {},
   "outputs": [
    {
     "name": "stdout",
     "output_type": "stream",
     "text": [
      "Total Movies: 6,131\n",
      "\n"
     ]
    }
   ],
   "source": [
    "#Step 2 : Use the condition to filter\n",
    "movies = df[condition]\n",
    "print(f\"Total Movies: {len(movies):,}\")\n",
    "print()"
   ]
  },
  {
   "cell_type": "code",
   "execution_count": 29,
   "id": "bcb730c6",
   "metadata": {},
   "outputs": [
    {
     "name": "stdout",
     "output_type": "stream",
     "text": [
      "Movies (one-liner): 6,131\n"
     ]
    }
   ],
   "source": [
    "#Usually written in ONE line (most common way):\n",
    "movies = df[df['type'] == 'Movie']\n",
    "print(f\"Movies (one-liner): {len(movies):,}\")"
   ]
  },
  {
   "cell_type": "code",
   "execution_count": 30,
   "id": "88bb13d0",
   "metadata": {},
   "outputs": [
    {
     "name": "stdout",
     "output_type": "stream",
     "text": [
      "TV Shows : 2,676\n",
      "TV Shows : 2,676\n",
      "Released after 2020 or in : 1,545\n",
      "Released before 2020 or in : 7,262\n",
      "Movies released after 2020 : 277\n",
      "Very Old or very recent : 843\n",
      "Not PG-13 : 8,393\n"
     ]
    }
   ],
   "source": [
    "#Comparison Operators\n",
    "#Equal to:\n",
    "tv_shows = df[df['type'] == 'TV Show']\n",
    "print(f\"TV Shows : {len(tv_shows):,}\")\n",
    "\n",
    "#Not Equal to:\n",
    "tv_shows = df[df['type'] != 'Movie']\n",
    "print(f\"TV Shows : {len(tv_shows):,}\")\n",
    "\n",
    "#Greater than:\n",
    "tv_shows = df[df['release_year'] >= 2020]\n",
    "print(f\"Released after 2020 or in : {len(tv_shows):,}\")\n",
    "\n",
    "#Less than:\n",
    "tv_shows = df[df['release_year'] < 2020]\n",
    "print(f\"Released before 2020 or in : {len(tv_shows):,}\")\n",
    "\n",
    "#Combinations: \n",
    "recent_movies = df[(df['type'] == 'Movie') & (df['release_year'] > 2020)]\n",
    "print(f\"Movies released after 2020 : {len(recent_movies):,}\")\n",
    "\n",
    "recent_movies = df[(df['release_year'] <  1990 ) | (df['release_year'] > 2020)]\n",
    "print(f\"Very Old or very recent : {len(recent_movies):,}\")\n",
    "\n",
    "not_pg13 = df[~(df['rating'] <  \"PG-13\")]\n",
    "print(f\"Not PG-13 : {len(not_pg13):,}\")"
   ]
  },
  {
   "cell_type": "code",
   "execution_count": 31,
   "id": "647ebc05",
   "metadata": {},
   "outputs": [
    {
     "name": "stdout",
     "output_type": "stream",
     "text": [
      "💥 Content with 'Action' genre: 1,027\n",
      "💥 Action (case-insensitive): 1,027\n",
      "📝 Titles starting with 'The': 1,130\n",
      "📝 Titles ending with 's': 1,383\n",
      "\n"
     ]
    }
   ],
   "source": [
    "#STRING OPERATIONS IN FILTERING\n",
    "# .str.contains() - Check if string contains substring\n",
    "# na=False means treat missing values as False\n",
    "action_content = df[df['listed_in'].str.contains('Action', na=False)]\n",
    "print(f\"💥 Content with 'Action' genre: {len(action_content):,}\")\n",
    "\n",
    "# Case-insensitive search\n",
    "action_case_insensitive = df[df['listed_in'].str.contains('action', case=False, na=False)]\n",
    "print(f\"💥 Action (case-insensitive): {len(action_case_insensitive):,}\")\n",
    "\n",
    "# .str.startswith() - Check if string starts with substring\n",
    "titles_starting_with_the = df[df['title'].str.startswith('The', na=False)]\n",
    "print(f\"📝 Titles starting with 'The': {len(titles_starting_with_the):,}\")\n",
    "\n",
    "# .str.endswith() - Check if string ends with substring\n",
    "titles_ending_with_s = df[df['title'].str.endswith('s', na=False)]\n",
    "print(f\"📝 Titles ending with 's': {len(titles_ending_with_s):,}\")\n",
    "print()"
   ]
  },
  {
   "cell_type": "code",
   "execution_count": 32,
   "id": "7432fb48",
   "metadata": {},
   "outputs": [
    {
     "name": "stdout",
     "output_type": "stream",
     "text": [
      "Family-friendly ratings (PG, PG-13, G): 818\n"
     ]
    }
   ],
   "source": [
    "#.isin - Check if value is in a list\n",
    "ratings_to_check = ['PG','PG-13','G']\n",
    "family_friendly = df[df['rating'].isin(ratings_to_check)]\n",
    "print(f\"Family-friendly ratings (PG, PG-13, G): {len(family_friendly):,}\")"
   ]
  },
  {
   "cell_type": "code",
   "execution_count": 33,
   "id": "569d101b",
   "metadata": {},
   "outputs": [
    {
     "name": "stdout",
     "output_type": "stream",
     "text": [
      "🌍 Content from US, India, UK: 4,209\n",
      "\n"
     ]
    }
   ],
   "source": [
    "countries = ['United States', 'India', 'United Kingdom']\n",
    "selected_countries = df[df['country'].isin(countries)]\n",
    "print(f\"🌍 Content from US, India, UK: {len(selected_countries):,}\")\n",
    "print()"
   ]
  },
  {
   "cell_type": "code",
   "execution_count": 34,
   "id": "a1395ca0",
   "metadata": {},
   "outputs": [
    {
     "name": "stdout",
     "output_type": "stream",
     "text": [
      "Content with NO director listed: 2,634\n",
      "Content WITH director listed: 6,173\n",
      "\n"
     ]
    }
   ],
   "source": [
    "# ============================================================================\n",
    "# .isnull() and .notnull() - Filter based on missing values\n",
    "# ============================================================================\n",
    "\n",
    "# Rows WHERE director is missing\n",
    "no_director = df[df['director'].isnull()]\n",
    "print(f\"Content with NO director listed: {len(no_director):,}\")\n",
    "\n",
    "# Rows WHERE director is NOT missing\n",
    "has_director = df[df['director'].notnull()]\n",
    "print(f\"Content WITH director listed: {len(has_director):,}\")\n",
    "print()\n"
   ]
  },
  {
   "cell_type": "code",
   "execution_count": 35,
   "id": "8d07016d",
   "metadata": {},
   "outputs": [
    {
     "name": "stdout",
     "output_type": "stream",
     "text": [
      "Recent Movies using .query(): 277\n",
      "TV Shows 2015-2020 using .query(): 1,884\n",
      "\n"
     ]
    }
   ],
   "source": [
    "# ============================================================================\n",
    "# .query() METHOD - Alternative syntax (more readable for complex filters)\n",
    "# ============================================================================\n",
    "\n",
    "# Instead of: df[(df['type'] == 'Movie') & (df['release_year'] > 2020)]\n",
    "# You can write:\n",
    "recent_movies_query = df.query(\"type == 'Movie' and release_year > 2020\")\n",
    "print(f\"Recent Movies using .query(): {len(recent_movies_query):,}\")\n",
    "\n",
    "# More complex query\n",
    "complex_query = df.query(\"type == 'TV Show' and release_year >= 2015 and release_year <= 2020\")\n",
    "print(f\"TV Shows 2015-2020 using .query(): {len(complex_query):,}\")\n",
    "print()"
   ]
  },
  {
   "cell_type": "code",
   "execution_count": 36,
   "id": "cfc0bca2",
   "metadata": {},
   "outputs": [
    {
     "name": "stdout",
     "output_type": "stream",
     "text": [
      "======================================================================\n",
      "REAL-WORLD FILTERING EXAMPLES:\n",
      "======================================================================\n",
      "Mature recent movies: 616\n",
      "                                                title  release_year rating\n",
      "12                                       Je Suis Karl          2021  TV-MA\n",
      "16  Europe's Most Dangerous Man: Otto Skorzeny in ...          2020  TV-MA\n",
      "35                     The Father Who Moves Mountains          2021  TV-MA\n",
      "36                                     The Stronghold          2021  TV-MA\n",
      "84                               Omo Ghetto: the Saga          2020  TV-MA\n",
      "\n",
      "Content from India or US: 4,698\n",
      "\n",
      "Sample TV Show durations:\n",
      "1     2 Seasons\n",
      "2      1 Season\n",
      "3      1 Season\n",
      "4     2 Seasons\n",
      "5      1 Season\n",
      "8     9 Seasons\n",
      "10     1 Season\n",
      "11     1 Season\n",
      "14     1 Season\n",
      "15    4 Seasons\n",
      "Name: duration, dtype: object\n",
      "\n"
     ]
    }
   ],
   "source": [
    "# ============================================================================\n",
    "# PRACTICAL EXAMPLES - Real Analysis Questions\n",
    "# ============================================================================\n",
    "\n",
    "print(\"=\"*70)\n",
    "print(\"REAL-WORLD FILTERING EXAMPLES:\")\n",
    "print(\"=\"*70)\n",
    "\n",
    "# 1. Find all Movies rated TV-MA released after 2018\n",
    "mature_recent_movies = df[\n",
    "    (df['type'] == 'Movie') & \n",
    "    (df['rating'] == 'TV-MA') & \n",
    "    (df['release_year'] > 2018)\n",
    "]\n",
    "print(f\"Mature recent movies: {len(mature_recent_movies):,}\")\n",
    "print(mature_recent_movies[['title', 'release_year', 'rating']].head())\n",
    "print()\n",
    "\n",
    "# 2. Find content from India or United States\n",
    "india_us = df[df['country'].str.contains('India|United States', na=False)]\n",
    "print(f\"Content from India or US: {len(india_us):,}\")\n",
    "print()\n",
    "\n",
    "# 3. Find TV Shows with more than 1 season\n",
    "# First, let's see what duration looks like for TV Shows\n",
    "print(\"Sample TV Show durations:\")\n",
    "print(df[df['type'] == 'TV Show']['duration'].head(10))\n",
    "print()"
   ]
  },
  {
   "cell_type": "code",
   "execution_count": 37,
   "id": "25b26855",
   "metadata": {},
   "outputs": [
    {
     "name": "stdout",
     "output_type": "stream",
     "text": [
      "======================================================================\n",
      "📚 FILTERING METHODS SUMMARY:\n",
      "======================================================================\n",
      "df[df['col'] == value]           → Equal to\n",
      "df[df['col'] != value]           → Not equal to\n",
      "df[df['col'] > value]            → Greater than\n",
      "df[df['col'] >= value]           → Greater than or equal\n",
      "df[df['col'] < value]            → Less than\n",
      "df[df['col'] <= value]           → Less than or equal\n",
      "df[(cond1) & (cond2)]            → AND (both true)\n",
      "df[(cond1) | (cond2)]            → OR (either true)\n",
      "df[~(condition)]                 → NOT (negate)\n",
      "df[df['col'].isin([list])]       → Value in list\n",
      "df[df['col'].isnull()]           → Is missing\n",
      "df[df['col'].notnull()]          → Not missing\n",
      "df[df['col'].str.contains('x')]  → Contains substring\n",
      "df.query('col > 10')             → Alternative syntax\n",
      "======================================================================\n"
     ]
    }
   ],
   "source": [
    "# ============================================================================\n",
    "# QUICK REFERENCE CHEAT SHEET\n",
    "# ============================================================================\n",
    "print(\"=\"*70)\n",
    "print(\"📚 FILTERING METHODS SUMMARY:\")\n",
    "print(\"=\"*70)\n",
    "print(\"df[df['col'] == value]           → Equal to\")\n",
    "print(\"df[df['col'] != value]           → Not equal to\")\n",
    "print(\"df[df['col'] > value]            → Greater than\")\n",
    "print(\"df[df['col'] >= value]           → Greater than or equal\")\n",
    "print(\"df[df['col'] < value]            → Less than\")\n",
    "print(\"df[df['col'] <= value]           → Less than or equal\")\n",
    "print(\"df[(cond1) & (cond2)]            → AND (both true)\")\n",
    "print(\"df[(cond1) | (cond2)]            → OR (either true)\")\n",
    "print(\"df[~(condition)]                 → NOT (negate)\")\n",
    "print(\"df[df['col'].isin([list])]       → Value in list\")\n",
    "print(\"df[df['col'].isnull()]           → Is missing\")\n",
    "print(\"df[df['col'].notnull()]          → Not missing\")\n",
    "print(\"df[df['col'].str.contains('x')]  → Contains substring\")\n",
    "print(\"df.query('col > 10')             → Alternative syntax\")\n",
    "print(\"=\"*70)"
   ]
  },
  {
   "cell_type": "code",
   "execution_count": 38,
   "id": "4f2c0598",
   "metadata": {},
   "outputs": [],
   "source": [
    "# I had two questions here, might be obvious for others, but good to know: "
   ]
  },
  {
   "cell_type": "code",
   "execution_count": 39,
   "id": "ccf2dde7",
   "metadata": {},
   "outputs": [],
   "source": [
    "### 1) What's na=False doing? "
   ]
  },
  {
   "cell_type": "code",
   "execution_count": 40,
   "id": "8b6dc36d",
   "metadata": {},
   "outputs": [
    {
     "name": "stdout",
     "output_type": "stream",
     "text": [
      "🔍 WITHOUT na=False:\n",
      "0    False\n",
      "1    False\n",
      "2     True\n",
      "3    False\n",
      "4    False\n",
      "5    False\n",
      "6    False\n",
      "7    False\n",
      "8    False\n",
      "9    False\n",
      "Name: listed_in, dtype: bool\n",
      "Missing values in result: 0\n",
      "\n",
      "🔍 WITH na=False:\n",
      "0    False\n",
      "1    False\n",
      "2     True\n",
      "3    False\n",
      "4    False\n",
      "5    False\n",
      "6    False\n",
      "7    False\n",
      "8    False\n",
      "9    False\n",
      "Name: listed_in, dtype: bool\n",
      "Missing values in result: 0\n",
      "\n"
     ]
    }
   ],
   "source": [
    "# WITHOUT na=False (default behavior: na=NaN)\n",
    "print(\"🔍 WITHOUT na=False:\")\n",
    "result_without = df['listed_in'].str.contains('Action')\n",
    "print(result_without.head(10))\n",
    "print(f\"Missing values in result: {result_without.isnull().sum()}\")\n",
    "print()\n",
    "\n",
    "# The problem: If 'listed_in' has NaN (missing values), \n",
    "# .str.contains() returns NaN for those rows\n",
    "# When you filter with NaN values, those rows are EXCLUDED\n",
    "# WITH na=False\n",
    "print(\"🔍 WITH na=False:\")\n",
    "result_with = df['listed_in'].str.contains('Action', na=False)\n",
    "print(result_with.head(10))\n",
    "print(f\"Missing values in result: {result_with.isnull().sum()}\")\n",
    "print()"
   ]
  },
  {
   "cell_type": "code",
   "execution_count": 41,
   "id": "f5bf8b36",
   "metadata": {},
   "outputs": [
    {
     "name": "stdout",
     "output_type": "stream",
     "text": [
      "Missing 'listed_in' values: 0\n",
      "Action content WITHOUT na=False: 1027\n",
      "Action content WITH na=False: 1027\n",
      "\n",
      "======================================================================\n",
      "WHAT na=False DOES:\n",
      "======================================================================\n",
      "na=False → Treat missing/NaN values as False (don't match)\n",
      "na=True  → Treat missing/NaN values as True (match)\n",
      "na=NaN   → Keep missing values as NaN (default)\n",
      "======================================================================\n"
     ]
    }
   ],
   "source": [
    " # Check how many rows have missing 'listed_in'\n",
    "print(f\"Missing 'listed_in' values: {df['listed_in'].isnull().sum()}\")\n",
    "\n",
    "# Scenario: Find all Action content\n",
    "# WITHOUT na=False\n",
    "action_without = df[df['listed_in'].str.contains('Action')]\n",
    "print(f\"Action content WITHOUT na=False: {len(action_without)}\")\n",
    "\n",
    "# WITH na=False  \n",
    "action_with = df[df['listed_in'].str.contains('Action', na=False)]\n",
    "print(f\"Action content WITH na=False: {len(action_with)}\")\n",
    "\n",
    "# They're the same because we drop NaN either way when filtering\n",
    "# But na=False is CLEARER about intent and avoids warnings\n",
    "\n",
    "print()\n",
    "print(\"=\"*70)\n",
    "print(\"WHAT na=False DOES:\")\n",
    "print(\"=\"*70)\n",
    "print(\"na=False → Treat missing/NaN values as False (don't match)\")\n",
    "print(\"na=True  → Treat missing/NaN values as True (match)\")\n",
    "print(\"na=NaN   → Keep missing values as NaN (default)\")\n",
    "print(\"=\"*70)"
   ]
  },
  {
   "cell_type": "code",
   "execution_count": 42,
   "id": "197b789c",
   "metadata": {},
   "outputs": [
    {
     "name": "stdout",
     "output_type": "stream",
     "text": [
      "======================================================================\n",
      "📊 WHAT YOU'LL ACTUALLY USE (Ranked by Frequency):\n",
      "======================================================================\n",
      "1. df[df['col'] == value]                 🔥🔥🔥 (Every day)\n",
      "2. df[(condition1) & (condition2)]        🔥🔥🔥 (Every day)\n",
      "3. df[df['col'] > value]                  🔥🔥🔥 (Every day)\n",
      "4. df[df['col'].isin([list])]             🔥🔥  (Very often)\n",
      "5. df[df['col'].notnull()]                🔥🔥  (Very often)\n",
      "6. df[df['col'].str.contains('x')]        🔥🔥  (Very often)\n",
      "7. df[(cond1) | (cond2)]                  🔥   (Sometimes)\n",
      "8. df[~(condition)]                       🔥   (Sometimes)\n",
      "9. df.query('condition')                  ⚡   (Personal preference)\n",
      "10. df[df['col'].str.startswith('x')]     ⚡   (Occasionally)\n",
      "======================================================================\n",
      "\n",
      "💡 START WITH THESE 5 (Master these first):\n",
      "======================================================================\n",
      "1. df[df['column'] == value]\n",
      "2. df[df['column'] > value]\n",
      "3. df[(condition1) & (condition2)]\n",
      "4. df[df['column'].isin([list])]\n",
      "5. df[df['column'].notnull()]\n",
      "\n",
      "Once comfortable, add:\n",
      "6. df[df['column'].str.contains('text', na=False)]\n",
      "======================================================================\n",
      "\n",
      "🎯 REAL INTERVIEW QUESTION:\n",
      "Find all Movies, released after 2015, rated TV-MA or R\n",
      "\n",
      "Result: 1902 movies found\n",
      "                                                title  release_year rating\n",
      "12                                       Je Suis Karl          2021  TV-MA\n",
      "16  Europe's Most Dangerous Man: Otto Skorzeny in ...          2020  TV-MA\n",
      "35                     The Father Who Moves Mountains          2021  TV-MA\n",
      "36                                     The Stronghold          2021  TV-MA\n",
      "73                                       King of Boys          2018  TV-MA\n"
     ]
    }
   ],
   "source": [
    "### 2) What selection method is used most frequently? \n",
    "\n",
    "# ============================================================================\n",
    "# THE 80/20 RULE - What You'll Actually Use 90% of the Time\n",
    "# ============================================================================\n",
    "\n",
    "# ⭐⭐⭐ TIER 1: USE THESE DAILY (90% of your work)\n",
    "# ============================================================================\n",
    "\n",
    "# 1. Simple equality filtering\n",
    "movies = df[df['type'] == 'Movie']\n",
    "recent = df[df['release_year'] > 2020]\n",
    "\n",
    "# 2. Combining with & (AND)\n",
    "recent_movies = df[(df['type'] == 'Movie') & (df['release_year'] > 2020)]\n",
    "\n",
    "# 3. .isin() for multiple values\n",
    "ratings = df[df['rating'].isin(['PG', 'PG-13', 'G'])]\n",
    "\n",
    "# 4. .isnull() and .notnull() for missing data checks\n",
    "has_director = df[df['director'].notnull()]\n",
    "\n",
    "# 5. .str.contains() for text searching\n",
    "action = df[df['listed_in'].str.contains('Action', na=False)]\n",
    "\n",
    "# ============================================================================\n",
    "# ⭐⭐ TIER 2: USE THESE REGULARLY (When you need them)\n",
    "# ============================================================================\n",
    "\n",
    "# 6. Combining with | (OR) - less common than &\n",
    "old_or_new = df[(df['release_year'] < 1990) | (df['release_year'] > 2020)]\n",
    "\n",
    "# 7. NOT (~) - occasionally useful\n",
    "not_movies = df[~(df['type'] == 'Movie')]\n",
    "\n",
    "# 8. .query() - some people love it, some never use it\n",
    "result = df.query(\"type == 'Movie' and release_year > 2020\")\n",
    "\n",
    "# ============================================================================\n",
    "# ⭐ TIER 3: NICE TO KNOW (Rarely used in practice)\n",
    "# ============================================================================\n",
    "\n",
    "# 9. .str.startswith() / .endswith() - occasional use cases\n",
    "starts_the = df[df['title'].str.startswith('The', na=False)]\n",
    "\n",
    "# ============================================================================\n",
    "# REAL-WORLD USAGE FREQUENCY (My Experience)\n",
    "# ============================================================================\n",
    "print(\"=\"*70)\n",
    "print(\"📊 WHAT YOU'LL ACTUALLY USE (Ranked by Frequency):\")\n",
    "print(\"=\"*70)\n",
    "print(\"1. df[df['col'] == value]                 🔥🔥🔥 (Every day)\")\n",
    "print(\"2. df[(condition1) & (condition2)]        🔥🔥🔥 (Every day)\")\n",
    "print(\"3. df[df['col'] > value]                  🔥🔥🔥 (Every day)\")\n",
    "print(\"4. df[df['col'].isin([list])]             🔥🔥  (Very often)\")\n",
    "print(\"5. df[df['col'].notnull()]                🔥🔥  (Very often)\")\n",
    "print(\"6. df[df['col'].str.contains('x')]        🔥🔥  (Very often)\")\n",
    "print(\"7. df[(cond1) | (cond2)]                  🔥   (Sometimes)\")\n",
    "print(\"8. df[~(condition)]                       🔥   (Sometimes)\")\n",
    "print(\"9. df.query('condition')                  ⚡   (Personal preference)\")\n",
    "print(\"10. df[df['col'].str.startswith('x')]     ⚡   (Occasionally)\")\n",
    "print(\"=\"*70)\n",
    "\n",
    "# ============================================================================\n",
    "# MY RECOMMENDATION FOR YOU\n",
    "# ============================================================================\n",
    "print(\"\\n💡 START WITH THESE 5 (Master these first):\")\n",
    "print(\"=\"*70)\n",
    "print(\"1. df[df['column'] == value]\")\n",
    "print(\"2. df[df['column'] > value]\")  \n",
    "print(\"3. df[(condition1) & (condition2)]\")\n",
    "print(\"4. df[df['column'].isin([list])]\")\n",
    "print(\"5. df[df['column'].notnull()]\")\n",
    "print()\n",
    "print(\"Once comfortable, add:\")\n",
    "print(\"6. df[df['column'].str.contains('text', na=False)]\")\n",
    "print(\"=\"*70)\n",
    "\n",
    "# ============================================================================\n",
    "# REALISTIC EXAMPLE - Job Interview Style Question\n",
    "# ============================================================================\n",
    "print(\"\\n🎯 REAL INTERVIEW QUESTION:\")\n",
    "print(\"Find all Movies, released after 2015, rated TV-MA or R\")\n",
    "print()\n",
    "\n",
    "# This is what 90% of filtering looks like in real work:\n",
    "result = df[\n",
    "    (df['type'] == 'Movie') &                    # Equality\n",
    "    (df['release_year'] > 2015) &                # Comparison\n",
    "    (df['rating'].isin(['TV-MA', 'R']))          # Multiple values\n",
    "]\n",
    "\n",
    "print(f\"Result: {len(result)} movies found\")\n",
    "print(result[['title', 'release_year', 'rating']].head())"
   ]
  },
  {
   "cell_type": "code",
   "execution_count": 43,
   "id": "18348517",
   "metadata": {},
   "outputs": [],
   "source": [
    "# ============================================================================\n",
    "# PANDAS LEARNING - SECTION 4: HANDLING MISSING DATA\n",
    "# ============================================================================\n",
    "# Real data is MESSY. Missing values are everywhere!\n",
    "# Learning to handle them properly is a CRITICAL skill.\n",
    "# ============================================================================\n"
   ]
  },
  {
   "cell_type": "code",
   "execution_count": 44,
   "id": "4bd80331",
   "metadata": {},
   "outputs": [],
   "source": [
    "# ============================================================================\n",
    "# STEP 1: IDENTIFYING MISSING DATA\n",
    "# ============================================================================\n"
   ]
  },
  {
   "cell_type": "code",
   "execution_count": 45,
   "id": "4b5c4df4",
   "metadata": {},
   "outputs": [
    {
     "name": "stdout",
     "output_type": "stream",
     "text": [
      "FINDING MISSING VALUES:\n",
      "======================================================================\n",
      "Missing values per column:\n",
      "show_id            0\n",
      "type               0\n",
      "title              0\n",
      "director        2634\n",
      "cast             825\n",
      "country          831\n",
      "date_added        10\n",
      "release_year       0\n",
      "rating             4\n",
      "duration           3\n",
      "listed_in          0\n",
      "description        0\n",
      "dtype: int64\n",
      "Missing values as percentage:\n",
      "show_id          0.00\n",
      "type             0.00\n",
      "title            0.00\n",
      "director        29.91\n",
      "cast             9.37\n",
      "country          9.44\n",
      "date_added       0.11\n",
      "release_year     0.00\n",
      "rating           0.05\n",
      "duration         0.03\n",
      "listed_in        0.00\n",
      "description      0.00\n",
      "dtype: float64\n",
      "\n"
     ]
    }
   ],
   "source": [
    "print(\"FINDING MISSING VALUES:\")\n",
    "print(\"=\"*70)\n",
    "\n",
    "missing_count = df.isnull().sum()\n",
    "print(\"Missing values per column:\")\n",
    "print(missing_count)\n",
    "\n",
    "#Get percent of missings \n",
    "missing_percent = (df.isnull().sum()/len(df))*100\n",
    "print('Missing values as percentage:')\n",
    "print(missing_percent.round(2))\n",
    "print()"
   ]
  },
  {
   "cell_type": "code",
   "execution_count": 46,
   "id": "083de757",
   "metadata": {},
   "outputs": [],
   "source": [
    "#Create a nice summary\n",
    "missing_summary = pd.DataFrame({\n",
    "    'Column': df.columns,\n",
    "    'Missing_Count':missing_count.values,\n",
    "    'Missing_Percent':missing_percent.round(2).values\n",
    "})\n",
    "missing_summary = missing_summary[missing_summary['Missing_Count'] > 0].sort_values('Missing_Count',ascending = False)"
   ]
  },
  {
   "cell_type": "code",
   "execution_count": 47,
   "id": "61b7129b",
   "metadata": {},
   "outputs": [
    {
     "name": "stdout",
     "output_type": "stream",
     "text": [
      "Missing Data Summary (only columns with missing data):\n",
      "    Column  Missing_Count  Missing_Percent\n",
      "  director           2634            29.91\n",
      "   country            831             9.44\n",
      "      cast            825             9.37\n",
      "date_added             10             0.11\n",
      "    rating              4             0.05\n",
      "  duration              3             0.03\n",
      "\n"
     ]
    }
   ],
   "source": [
    "print(\"Missing Data Summary (only columns with missing data):\")\n",
    "print(missing_summary.to_string(index = False))\n",
    "print()"
   ]
  },
  {
   "cell_type": "code",
   "execution_count": 48,
   "id": "5a38af3d",
   "metadata": {},
   "outputs": [
    {
     "name": "stdout",
     "output_type": "stream",
     "text": [
      "Total missing values:4,307 out of 105,684 cells (4.08%)\n"
     ]
    }
   ],
   "source": [
    "#Total missing values in entire dataset\n",
    "total_missing = df.isnull().sum().sum()\n",
    "total_cells = df.shape[0]*df.shape[1]\n",
    "print(f\"Total missing values:{total_missing:,} out of {total_cells:,} cells ({(total_missing/total_cells)*100:.2f}%)\")\n"
   ]
  },
  {
   "cell_type": "code",
   "execution_count": 49,
   "id": "325f02d6",
   "metadata": {},
   "outputs": [
    {
     "name": "stdout",
     "output_type": "stream",
     "text": [
      "======================================================================\n",
      "Strategy 1: Dropping Missing Data\n",
      "======================================================================\n"
     ]
    }
   ],
   "source": [
    "#Step 2 : Strategy 1: Dropping Missing Data\n",
    "print(\"=\"*70)\n",
    "print(\"Strategy 1: Dropping Missing Data\")\n",
    "print(\"=\"*70)"
   ]
  },
  {
   "cell_type": "code",
   "execution_count": 50,
   "id": "af424358",
   "metadata": {},
   "outputs": [
    {
     "name": "stdout",
     "output_type": "stream",
     "text": [
      "Original Shape:(8807, 12)\n"
     ]
    }
   ],
   "source": [
    "print(f\"Original Shape:{df.shape}\")"
   ]
  },
  {
   "cell_type": "code",
   "execution_count": 51,
   "id": "13e34496",
   "metadata": {},
   "outputs": [
    {
     "name": "stdout",
     "output_type": "stream",
     "text": [
      "After dropna() [drop any NaN]: (5332, 12)\n",
      "Rows lost: 3,475 (39.5%)\n",
      "This is very aggressive - you lose a lot of data!\n",
      "\n"
     ]
    }
   ],
   "source": [
    "#dropna()- Remove rows with ANY missing values\n",
    "df_dropped_any = df.dropna()\n",
    "print(f\"After dropna() [drop any NaN]: {df_dropped_any.shape}\")\n",
    "print(f\"Rows lost: {len(df) - len(df_dropped_any):,} ({((len(df) - len(df_dropped_any))/len(df))*100:.1f}%)\")\n",
    "print(\"This is very aggressive - you lose a lot of data!\")\n",
    "print()"
   ]
  },
  {
   "cell_type": "code",
   "execution_count": 52,
   "id": "d2ff9647",
   "metadata": {},
   "outputs": [
    {
     "name": "stdout",
     "output_type": "stream",
     "text": [
      "After dropna() [drop all NaN]: (8807, 12)\n",
      "Rows lost: 0 (0.0%)\n",
      "This is safer - only removes completely empty rows\n"
     ]
    }
   ],
   "source": [
    "# dropna (how = 'all') - Remove rows where ALL values are missing\n",
    "df_dropped_all = df.dropna(how = 'all')\n",
    "print(f\"After dropna() [drop all NaN]: {df_dropped_all.shape}\")\n",
    "print(f\"Rows lost: {len(df) - len(df_dropped_all):,} ({((len(df) - len(df_dropped_all))/len(df))*100:.1f}%)\")\n",
    "print(\"This is safer - only removes completely empty rows\")"
   ]
  },
  {
   "cell_type": "code",
   "execution_count": 53,
   "id": "a0a841ed",
   "metadata": {},
   "outputs": [
    {
     "name": "stdout",
     "output_type": "stream",
     "text": [
      "After dropna(subset=['rating']): (8803, 12)\n",
      "Rows lost: 4\n",
      "This is targeted - only care about specific columns\n",
      "\n"
     ]
    }
   ],
   "source": [
    "#dropna (subset = []) - Remove rows with missing values in SPECIFIC columns\n",
    "df_dropped_subset = df.dropna(subset=['rating'])\n",
    "print(f\"After dropna(subset=['rating']): {df_dropped_subset.shape}\")\n",
    "print(f\"Rows lost: {len(df) - len(df_dropped_subset):,}\")\n",
    "print(\"This is targeted - only care about specific columns\")\n",
    "print()"
   ]
  },
  {
   "cell_type": "code",
   "execution_count": 54,
   "id": "fa9e54de",
   "metadata": {},
   "outputs": [
    {
     "name": "stdout",
     "output_type": "stream",
     "text": [
      "After dropna(thresh=10): (8709, 12)\n",
      "Rows lost: 98\n",
      "\n"
     ]
    }
   ],
   "source": [
    "#dropna(thresh=) - keep rows with atleast X non-null values\n",
    "df_dropped_thresh = df.dropna(thresh = 10)\n",
    "print(f\"After dropna(thresh=10): {df_dropped_thresh.shape}\")\n",
    "print(f\"Rows lost: {len(df) - len(df_dropped_thresh):,}\")\n",
    "print()"
   ]
  },
  {
   "cell_type": "code",
   "execution_count": 55,
   "id": "8f4a6e6d",
   "metadata": {},
   "outputs": [
    {
     "name": "stdout",
     "output_type": "stream",
     "text": [
      "After dropna columns: (8807, 6)\n",
      "Columns lost: 6\n",
      "Remaining Columns: ['show_id', 'type', 'title', 'release_year', 'listed_in', 'description']\n",
      "\n"
     ]
    }
   ],
   "source": [
    "#dropna (axis = 1) - DROP COLUMNS with missing\n",
    "df_dropped_columns = df.dropna(axis = 1)\n",
    "print(f\"After dropna columns: {df_dropped_columns.shape}\")\n",
    "print(f\"Columns lost: {df.shape[1] - df_dropped_columns.shape[1]}\")\n",
    "print(f\"Remaining Columns: {df_dropped_columns.columns.tolist()}\")\n",
    "print()"
   ]
  },
  {
   "cell_type": "code",
   "execution_count": 56,
   "id": "12c820bf",
   "metadata": {},
   "outputs": [],
   "source": [
    "# ============================================================================\n",
    "# STEP 3: STRATEGY 2 - FILLING MISSING DATA\n",
    "# ============================================================================"
   ]
  },
  {
   "cell_type": "code",
   "execution_count": 57,
   "id": "ade0023f",
   "metadata": {},
   "outputs": [
    {
     "name": "stdout",
     "output_type": "stream",
     "text": [
      "======================================================================\n",
      "Strategy 2: Filling Missing Data\n",
      "======================================================================\n",
      "Filled 'director' with 'Unknown'\n",
      "Missing directors now:0\n",
      "\n"
     ]
    }
   ],
   "source": [
    "print(\"=\"*70)\n",
    "print(\"Strategy 2: Filling Missing Data\")\n",
    "print(\"=\"*70)\n",
    "\n",
    "df_filled = df.copy()\n",
    "df_filled['director'] = df_filled['director'].fillna('Unknown')\n",
    "print(f\"Filled 'director' with 'Unknown'\")\n",
    "print(f\"Missing directors now:{df_filled['director'].isnull().sum()}\")\n",
    "print()"
   ]
  },
  {
   "cell_type": "code",
   "execution_count": 58,
   "id": "0d014696",
   "metadata": {},
   "outputs": [
    {
     "name": "stdout",
     "output_type": "stream",
     "text": [
      "Filled 'cast' with 'No Cast Information'\n",
      "Missing cast now: 0\n",
      "\n"
     ]
    }
   ],
   "source": [
    "#Fill missing cast with 'No Cast Information'\n",
    "df_filled['cast'] = df_filled['cast'].fillna('No Cast Information')\n",
    "print(f\"Filled 'cast' with 'No Cast Information'\")\n",
    "print(f\"Missing cast now: {df_filled['cast'].isnull().sum()}\")\n",
    "print()"
   ]
  },
  {
   "cell_type": "code",
   "execution_count": 59,
   "id": "63a43be5",
   "metadata": {},
   "outputs": [
    {
     "name": "stdout",
     "output_type": "stream",
     "text": [
      "Filled 'country' with 'Unknown'\n",
      "Missing country now: 0\n",
      "\n"
     ]
    }
   ],
   "source": [
    "#Fill missing country with 'Unknown'\n",
    "df_filled['country'] = df_filled['country'].fillna('Unknown')\n",
    "print(f\"Filled 'country' with 'Unknown'\")\n",
    "print(f\"Missing country now: {df_filled['country'].isnull().sum()}\")\n",
    "print()"
   ]
  },
  {
   "cell_type": "code",
   "execution_count": 60,
   "id": "52995850",
   "metadata": {},
   "outputs": [
    {
     "name": "stdout",
     "output_type": "stream",
     "text": [
      "Forward Filled 'date_added'\n",
      "Missing date_added now: 0\n",
      "\n"
     ]
    }
   ],
   "source": [
    "df_filled['date_added'] = df_filled['date_added'].fillna(method = 'ffill')\n",
    "print(f\"Forward Filled 'date_added'\")\n",
    "print(f\"Missing date_added now: {df_filled['date_added'].isnull().sum()}\")\n",
    "print()"
   ]
  },
  {
   "cell_type": "code",
   "execution_count": 61,
   "id": "1c0ca8fb",
   "metadata": {},
   "outputs": [
    {
     "name": "stdout",
     "output_type": "stream",
     "text": [
      "Missing values after filling:\n",
      "rating      4\n",
      "duration    3\n",
      "dtype: int64\n"
     ]
    }
   ],
   "source": [
    "#Check remaining missing values\n",
    "print(\"Missing values after filling:\")\n",
    "print(df_filled.isnull().sum()[df_filled.isnull().sum() > 0])"
   ]
  },
  {
   "cell_type": "code",
   "execution_count": 62,
   "id": "12274e0a",
   "metadata": {},
   "outputs": [],
   "source": [
    "# ============================================================================\n",
    "# STEP 4: STRATEGY 3 - REPLACING VALUES\n",
    "# ============================================================================"
   ]
  },
  {
   "cell_type": "code",
   "execution_count": 63,
   "id": "6846ef2a",
   "metadata": {},
   "outputs": [
    {
     "name": "stdout",
     "output_type": "stream",
     "text": [
      "======================================================================\n",
      "Strategy 3: Replacing values\n",
      "======================================================================\n"
     ]
    }
   ],
   "source": [
    "print(\"=\"*70)\n",
    "print(\"Strategy 3: Replacing values\")\n",
    "print(\"=\"*70)"
   ]
  },
  {
   "cell_type": "code",
   "execution_count": 64,
   "id": "44220f93",
   "metadata": {},
   "outputs": [
    {
     "name": "stdout",
     "output_type": "stream",
     "text": [
      "Replaced empty strings with NaN\n",
      "Replaced placeholder values with NaN\n",
      "\n"
     ]
    }
   ],
   "source": [
    "#Sometimes data has placeholder values SHOULD be NaN, example: not available,\n",
    "# N/A, Unknown etc.\n",
    "\n",
    "#replace() -> Replace specific values\n",
    "df_replaced = df.copy()\n",
    "df_replaced = df_replaced.replace('',np.nan)\n",
    "print(\"Replaced empty strings with NaN\")\n",
    "\n",
    "#Replace multiple values at once \n",
    "df_replaced = df_replaced.replace({\n",
    "    'Not Available':np.nan,\n",
    "    'N/A':np.nan,\n",
    "    'Unknown': np.nan\n",
    "})\n",
    "\n",
    "print(\"Replaced placeholder values with NaN\")\n",
    "print()"
   ]
  },
  {
   "cell_type": "code",
   "execution_count": 65,
   "id": "dba08988",
   "metadata": {},
   "outputs": [
    {
     "name": "stdout",
     "output_type": "stream",
     "text": [
      "======================================================================\n",
      "🎯 DECISION TREE: What to do with missing data?\n",
      "======================================================================\n",
      "\n",
      "1. Is the missing data < 5% of total rows?\n",
      "   → YES: Drop those rows with dropna(subset=['column'])\n",
      "   → NO: Go to step 2\n",
      "\n",
      "2. Is the column important for your analysis?\n",
      "   → NO: Drop the entire column with drop('column', axis=1)\n",
      "   → YES: Go to step 3\n",
      "\n",
      "3. Can you fill with a meaningful value?\n",
      "   → YES: Use fillna('meaningful_value')\n",
      "   → NO: Go to step 4\n",
      "\n",
      "4. Is it categorical data?\n",
      "   → YES: Fill with 'Unknown' or most frequent value (mode)\n",
      "   → NO: Fill with mean/median for numerical data\n",
      "\n",
      "5. Is it completely random?\n",
      "   → YES: Safe to drop or fill\n",
      "   → NO: Investigate WHY it's missing (might be meaningful!)\n",
      "\n"
     ]
    }
   ],
   "source": [
    "\n",
    "# ============================================================================\n",
    "# PRACTICAL DECISION TREE - WHAT TO DO WITH MISSING DATA?\n",
    "# ============================================================================\n",
    "print(\"=\"*70)\n",
    "print(\"🎯 DECISION TREE: What to do with missing data?\")\n",
    "print(\"=\"*70)\n",
    "print(\"\"\"\n",
    "1. Is the missing data < 5% of total rows?\n",
    "   → YES: Drop those rows with dropna(subset=['column'])\n",
    "   → NO: Go to step 2\n",
    "\n",
    "2. Is the column important for your analysis?\n",
    "   → NO: Drop the entire column with drop('column', axis=1)\n",
    "   → YES: Go to step 3\n",
    "\n",
    "3. Can you fill with a meaningful value?\n",
    "   → YES: Use fillna('meaningful_value')\n",
    "   → NO: Go to step 4\n",
    "\n",
    "4. Is it categorical data?\n",
    "   → YES: Fill with 'Unknown' or most frequent value (mode)\n",
    "   → NO: Fill with mean/median for numerical data\n",
    "\n",
    "5. Is it completely random?\n",
    "   → YES: Safe to drop or fill\n",
    "   → NO: Investigate WHY it's missing (might be meaningful!)\n",
    "\"\"\")\n"
   ]
  },
  {
   "cell_type": "code",
   "execution_count": 66,
   "id": "53207728",
   "metadata": {},
   "outputs": [],
   "source": [
    "# ============================================================================\n",
    "# REAL-WORLD EXAMPLE - Netflix Dataset\n",
    "# ============================================================================"
   ]
  },
  {
   "cell_type": "code",
   "execution_count": 67,
   "id": "541375a8",
   "metadata": {},
   "outputs": [
    {
     "name": "stdout",
     "output_type": "stream",
     "text": [
      "======================================================================\n",
      "🎬 PRACTICAL EXAMPLE: Cleaning Netflix Data\n",
      "======================================================================\n",
      "Starting shape: (8807, 12)\n",
      "Starting missing values: 4307\n",
      "\n",
      "After dropping missing ratings: (8803, 12)\n",
      "After filling directors: 0 missing\n",
      "After filling cast: 0 missing\n",
      "After filling country: 0 missing\n",
      "After dropping missing date_added: 0 missing\n",
      "After filling duration: 0 missing\n",
      "\n",
      "FINAL CLEAN DATASET\n",
      "Shape: (8793, 12)\n",
      "Rows lost: 14 (0.16%)\n"
     ]
    }
   ],
   "source": [
    "print(\"=\"*70)\n",
    "print(\"🎬 PRACTICAL EXAMPLE: Cleaning Netflix Data\")\n",
    "print(\"=\"*70)\n",
    "\n",
    "# Start fresh\n",
    "df_clean = df.copy()\n",
    "print(f\"Starting shape: {df_clean.shape}\")\n",
    "print(f\"Starting missing values: {df_clean.isnull().sum().sum()}\")\n",
    "print()\n",
    "\n",
    "#Step 1: Drop rows with missing 'rating' (only 4 rows, not critical)\n",
    "df_clean = df_clean.dropna(subset = ['rating'])\n",
    "print(f\"After dropping missing ratings: {df_clean.shape}\")\n",
    "\n",
    "#Step 2: Fill missing 'director' with 'Unknown Director'\n",
    "df_clean['director'] = df_clean['director'].fillna('Unknown Director')\n",
    "print(f\"After filling directors: {df_clean['director'].isnull().sum()} missing\")\n",
    "\n",
    "#Step 3: Fill missing 'cast' with 'Cast Not Available'\n",
    "df_clean['cast'] = df_clean['cast'].fillna('Cast Not Available')\n",
    "print(f\"After filling cast: {df_clean['cast'].isnull().sum()} missing\")\n",
    "\n",
    "#Step 3: Fill missing 'country' with 'Unknown Country'\n",
    "df_clean['country'] = df_clean['country'].fillna('Unknown Country')\n",
    "print(f\"After filling country: {df_clean['country'].isnull().sum()} missing\")\n",
    "\n",
    "#Step 3: Drop rows with missing 'date_added' (only 10 rows)\n",
    "df_clean = df_clean.dropna(subset = ['date_added'])\n",
    "print(f\"After dropping missing date_added: {df_clean['date_added'].isnull().sum()} missing\")\n",
    "\n",
    "\n",
    "#Step 4: Fill any remaining missing 'duration'\n",
    "df_clean['duration'] = df_clean['duration'].fillna('Unknown Duration')\n",
    "print(f\"After filling duration: {df_clean['duration'].isnull().sum()} missing\")\n",
    "\n",
    "print()\n",
    "print(f\"FINAL CLEAN DATASET\")\n",
    "print(f\"Shape: {df_clean.shape}\")\n",
    "print(f\"Rows lost: {len(df) - len(df_clean)} ({((len(df) - len(df_clean))/len(df))*100:.2f}%)\")"
   ]
  },
  {
   "cell_type": "code",
   "execution_count": 68,
   "id": "c8504e9e",
   "metadata": {},
   "outputs": [
    {
     "name": "stdout",
     "output_type": "stream",
     "text": [
      "======================================================================\n",
      "MISSING DATA METHODS SUMMARY:\n",
      "======================================================================\n",
      "DETECTING:\n",
      "  df.isnull()              → Returns boolean DataFrame\n",
      "  df.isnull().sum()        → Count missing per column\n",
      "  df.notnull()             → Opposite of isnull()\n",
      "\n",
      "DROPPING:\n",
      "  df.dropna()              → Drop rows with ANY missing\n",
      "  df.dropna(how='all')     → Drop rows with ALL missing\n",
      "  df.dropna(subset=['col']) → Drop rows with missing in specific columns\n",
      "  df.dropna(thresh=n)      → Keep rows with at least n non-null\n",
      "  df.dropna(axis=1)        → Drop columns with missing\n",
      "\n",
      "FILLING:\n",
      "  df.fillna(value)         → Fill all missing with value\n",
      "  df.fillna(method='ffill') → Forward fill (use previous value)\n",
      "  df.fillna(method='bfill') → Backward fill (use next value)\n",
      "  df['col'].fillna(df['col'].mean()) → Fill with mean\n",
      "\n",
      "REPLACING:\n",
      "  df.replace(old, new)     → Replace specific values\n",
      "======================================================================\n"
     ]
    }
   ],
   "source": [
    "# ============================================================================\n",
    "# QUICK REFERENCE CHEAT SHEET\n",
    "# ============================================================================\n",
    "print(\"=\"*70)\n",
    "print(\"MISSING DATA METHODS SUMMARY:\")\n",
    "print(\"=\"*70)\n",
    "print(\"DETECTING:\")\n",
    "print(\"  df.isnull()              → Returns boolean DataFrame\")\n",
    "print(\"  df.isnull().sum()        → Count missing per column\")\n",
    "print(\"  df.notnull()             → Opposite of isnull()\")\n",
    "print()\n",
    "print(\"DROPPING:\")\n",
    "print(\"  df.dropna()              → Drop rows with ANY missing\")\n",
    "print(\"  df.dropna(how='all')     → Drop rows with ALL missing\")\n",
    "print(\"  df.dropna(subset=['col']) → Drop rows with missing in specific columns\")\n",
    "print(\"  df.dropna(thresh=n)      → Keep rows with at least n non-null\")\n",
    "print(\"  df.dropna(axis=1)        → Drop columns with missing\")\n",
    "print()\n",
    "print(\"FILLING:\")\n",
    "print(\"  df.fillna(value)         → Fill all missing with value\")\n",
    "print(\"  df.fillna(method='ffill') → Forward fill (use previous value)\")\n",
    "print(\"  df.fillna(method='bfill') → Backward fill (use next value)\")\n",
    "print(\"  df['col'].fillna(df['col'].mean()) → Fill with mean\")\n",
    "print()\n",
    "print(\"REPLACING:\")\n",
    "print(\"  df.replace(old, new)     → Replace specific values\")\n",
    "print(\"=\"*70)\n"
   ]
  },
  {
   "cell_type": "code",
   "execution_count": 69,
   "id": "4b97285a",
   "metadata": {},
   "outputs": [],
   "source": [
    "# ============================================================================\n",
    "# PANDAS LEARNING - SECTION 5: GROUPBY & AGGREGATION\n",
    "# ============================================================================\n",
    "# This is WHERE PANDAS SHINES! \n",
    "# GroupBy lets you split-apply-combine: group data, calculate stats, get insights\n",
    "# This is like Excel pivot tables, but way more powerful!\n",
    "# ============================================================================\n"
   ]
  },
  {
   "cell_type": "code",
   "execution_count": 70,
   "id": "045b2fe3",
   "metadata": {},
   "outputs": [
    {
     "name": "stdout",
     "output_type": "stream",
     "text": [
      "======================================================================\n",
      "WHAT IS GROUPBY?\n",
      "======================================================================\n",
      "\n",
      "GroupBy follows the \"Split-Apply-Combine\" pattern:\n",
      "\n",
      "1. SPLIT: Divide data into groups based on some criteria\n",
      "2. APPLY: Calculate something for each group (count, sum, mean, etc.)\n",
      "3. COMBINE: Put results back together\n",
      "\n",
      "Example: \"How many Movies vs TV Shows?\"\n",
      "- SPLIT by 'type' (Movie, TV Show)\n",
      "- APPLY count function\n",
      "- COMBINE into result\n",
      "\n",
      "\n"
     ]
    }
   ],
   "source": [
    "# ============================================================================\n",
    "# UNDERSTANDING GROUPBY - The Concept\n",
    "# ============================================================================\n",
    "\n",
    "print(\"=\"*70)\n",
    "print(\"WHAT IS GROUPBY?\")\n",
    "print(\"=\"*70)\n",
    "print(\"\"\"\n",
    "GroupBy follows the \"Split-Apply-Combine\" pattern:\n",
    "\n",
    "1. SPLIT: Divide data into groups based on some criteria\n",
    "2. APPLY: Calculate something for each group (count, sum, mean, etc.)\n",
    "3. COMBINE: Put results back together\n",
    "\n",
    "Example: \"How many Movies vs TV Shows?\"\n",
    "- SPLIT by 'type' (Movie, TV Show)\n",
    "- APPLY count function\n",
    "- COMBINE into result\n",
    "\"\"\")\n",
    "print()"
   ]
  },
  {
   "cell_type": "code",
   "execution_count": 71,
   "id": "20779568",
   "metadata": {},
   "outputs": [
    {
     "name": "stdout",
     "output_type": "stream",
     "text": [
      "======================================================================\n",
      "Basic Groupby - Counting\n",
      "======================================================================\n",
      "How many of each type?\n",
      "type\n",
      "Movie      6129\n",
      "TV Show    2664\n",
      "dtype: int64\n",
      "Using .count() (shows counts for EACH column):\n",
      "         show_id  title  director  cast  country  date_added  release_year  \\\n",
      "type                                                                         \n",
      "Movie       6131   6131      5943  5656     5691        6131          6131   \n",
      "TV Show     2676   2676       230  2326     2285        2666          2676   \n",
      "\n",
      "         rating  duration  listed_in  description  \n",
      "type                                               \n",
      "Movie      6129      6128       6131         6131  \n",
      "TV Show    2674      2676       2676         2676  \n",
      "Type: <class 'pandas.core.frame.DataFrame'>\n",
      "\n"
     ]
    }
   ],
   "source": [
    "# ============================================================================\n",
    "# BASIC GROUPBY - Single Column\n",
    "# ============================================================================\n",
    "print(\"=\"*70)\n",
    "print(\"Basic Groupby - Counting\")\n",
    "print(\"=\"*70)\n",
    "\n",
    "\n",
    "# Count by type (Movie vs TV Show)\n",
    "type_counts = df_clean.groupby('type').size()\n",
    "print(\"How many of each type?\")\n",
    "print(type_counts)\n",
    "\n",
    "#Alternative using .count() - counts non-null values in each column\n",
    "\n",
    "type_counts2 = df.groupby('type').count()\n",
    "print(\"Using .count() (shows counts for EACH column):\")\n",
    "print(type_counts2)\n",
    "print(f\"Type: {type(type_counts2)}\")\n",
    "print()"
   ]
  },
  {
   "cell_type": "code",
   "execution_count": 72,
   "id": "70b3f032",
   "metadata": {},
   "outputs": [
    {
     "name": "stdout",
     "output_type": "stream",
     "text": [
      "======================================================================\n",
      "GROUPBY WITH AGGREGATIONS\n",
      "======================================================================\n",
      "Basic Statistics by type:\n",
      "          count         mean       std     min     25%     50%     75%     max\n",
      "type                                                                          \n",
      "Movie    6129.0  2013.120574  9.679592  1942.0  2012.0  2016.0  2018.0  2021.0\n",
      "TV Show  2664.0  2016.627628  5.735194  1925.0  2016.0  2018.0  2020.0  2021.0\n",
      "\n"
     ]
    }
   ],
   "source": [
    "# ============================================================================\n",
    "# GROUPBY WITH AGGREGATION FUNCTIONS\n",
    "# ============================================================================\n",
    "\n",
    "print(\"=\"*70)\n",
    "print(\"GROUPBY WITH AGGREGATIONS\")\n",
    "print(\"=\"*70)\n",
    "\n",
    "\n",
    "# Group by type and get multiple statistics\n",
    "print(\"Basic Statistics by type:\")\n",
    "stats = df_clean.groupby('type')['release_year'].describe()\n",
    "print(stats)\n",
    "print()"
   ]
  },
  {
   "cell_type": "code",
   "execution_count": 73,
   "id": "d9ceac01",
   "metadata": {},
   "outputs": [
    {
     "name": "stdout",
     "output_type": "stream",
     "text": [
      "Average release year by type:\n",
      "type\n",
      "Movie      2013.120574\n",
      "TV Show    2016.627628\n",
      "Name: release_year, dtype: float64\n",
      "\n"
     ]
    }
   ],
   "source": [
    "#Specific aggregations\n",
    "print(\"Average release year by type:\")\n",
    "avg_year = df_clean.groupby('type')['release_year'].mean()\n",
    "print(avg_year)\n",
    "print()"
   ]
  },
  {
   "cell_type": "code",
   "execution_count": 74,
   "id": "b3f7de4d",
   "metadata": {},
   "outputs": [
    {
     "name": "stdout",
     "output_type": "stream",
     "text": [
      "Earliest release year by type:\n",
      "type\n",
      "Movie      1942\n",
      "TV Show    1925\n",
      "Name: release_year, dtype: int64\n",
      "\n"
     ]
    }
   ],
   "source": [
    "print(\"Earliest release year by type:\")\n",
    "min_year = df_clean.groupby('type')['release_year'].min()\n",
    "print(min_year)\n",
    "print()"
   ]
  },
  {
   "cell_type": "code",
   "execution_count": 75,
   "id": "7ae6e2cc",
   "metadata": {},
   "outputs": [
    {
     "name": "stdout",
     "output_type": "stream",
     "text": [
      "Latest release year by type:\n",
      "type\n",
      "Movie      2021\n",
      "TV Show    2021\n",
      "Name: release_year, dtype: int64\n",
      "\n"
     ]
    }
   ],
   "source": [
    "print(\"Latest release year by type:\")\n",
    "max_year = df_clean.groupby('type')['release_year'].max()\n",
    "print(max_year)\n",
    "print()"
   ]
  },
  {
   "cell_type": "code",
   "execution_count": 76,
   "id": "0a188d6d",
   "metadata": {},
   "outputs": [
    {
     "name": "stdout",
     "output_type": "stream",
     "text": [
      "======================================================================\n",
      "📚 COMMON AGGREGATION FUNCTIONS:\n",
      "======================================================================\n",
      "Analysis by rating\n",
      "        count         mean   min   max        std\n",
      "rating                                           \n",
      "TV-MA    3207  2016.661678  1945  2021   5.620009\n",
      "TV-14    2160  2013.655556  1925  2021   9.774667\n",
      "TV-PG     863  2013.529548  1943  2021  10.640563\n",
      "R         799  2010.471840  1962  2021  10.014095\n",
      "PG-13     490  2009.314286  1955  2021   9.033408\n",
      "TV-Y7     334  2015.508982  1981  2021   5.604447\n",
      "TV-Y      307  2017.159609  1992  2021   3.629571\n",
      "PG        287  2008.428571  1973  2021  11.724442\n",
      "TV-G      220  2015.745455  1954  2021   7.952986\n",
      "NR         80  2010.912500  1958  2018  10.297098\n",
      "\n"
     ]
    }
   ],
   "source": [
    "# ============================================================================\n",
    "# COMMON AGGREGATION FUNCTIONS\n",
    "# ============================================================================\n",
    "\n",
    "print(\"=\"*70)\n",
    "print(\"📚 COMMON AGGREGATION FUNCTIONS:\")\n",
    "print(\"=\"*70)\n",
    "\n",
    "#Let's use rating as example\n",
    "rating_analysis = df.groupby('rating')['release_year'].agg([\n",
    "    'count',\n",
    "    'mean',\n",
    "    'min',\n",
    "    'max',\n",
    "    'std'\n",
    "])\n",
    "\n",
    "print('Analysis by rating')\n",
    "print(rating_analysis.sort_values('count', ascending = False).head(10))\n",
    "print()"
   ]
  },
  {
   "cell_type": "code",
   "execution_count": 77,
   "id": "38c7f512",
   "metadata": {},
   "outputs": [
    {
     "name": "stdout",
     "output_type": "stream",
     "text": [
      "======================================================================\n",
      "📌 GROUPBY MULTIPLE COLUMNS\n",
      "======================================================================\n",
      "Count by type and rating:\n",
      "type   rating\n",
      "Movie  66 min       1\n",
      "       74 min       1\n",
      "       84 min       1\n",
      "       G           41\n",
      "       NC-17        3\n",
      "       NR          75\n",
      "       PG         287\n",
      "       PG-13      490\n",
      "       R          797\n",
      "       TV-14     1427\n",
      "       TV-G       126\n",
      "       TV-MA     2062\n",
      "       TV-PG      540\n",
      "       TV-Y       131\n",
      "       TV-Y7      139\n",
      "dtype: int64\n",
      "\n"
     ]
    }
   ],
   "source": [
    "# ============================================================================\n",
    "# GROUPBY WITH MULTIPLE COLUMNS\n",
    "# ============================================================================\n",
    "print(\"=\"*70)\n",
    "print(\"📌 GROUPBY MULTIPLE COLUMNS\")\n",
    "print(\"=\"*70)\n",
    "\n",
    "type_rating = df.groupby(['type','rating']).size()\n",
    "print('Count by type and rating:')\n",
    "print(type_rating.head(15))\n",
    "print()"
   ]
  },
  {
   "cell_type": "code",
   "execution_count": 78,
   "id": "2db8b1e6",
   "metadata": {},
   "outputs": [
    {
     "name": "stdout",
     "output_type": "stream",
     "text": [
      "As a table (unstacked):\n",
      "rating   66 min  74 min  84 min   G  NC-17  NR   PG  PG-13    R  TV-14  TV-G  \\\n",
      "type                                                                           \n",
      "Movie         1       1       1  41      3  75  287    490  797   1427   126   \n",
      "TV Show       0       0       0   0      0   4    0      0    2    730    94   \n",
      "\n",
      "rating   TV-MA  TV-PG  TV-Y  TV-Y7  TV-Y7-FV  UR  \n",
      "type                                              \n",
      "Movie     2062    540   131    139         5   3  \n",
      "TV Show   1143    321   175    194         1   0  \n",
      "\n"
     ]
    }
   ],
   "source": [
    "#unstack to make it more readable (convert to wide format)\n",
    "type_rating_table = df_clean.groupby(['type','rating']).size().unstack(fill_value = 0)\n",
    "print(\"As a table (unstacked):\")\n",
    "print(type_rating_table)\n",
    "\n",
    "print()"
   ]
  },
  {
   "cell_type": "code",
   "execution_count": 79,
   "id": "ff26be4d",
   "metadata": {},
   "outputs": [
    {
     "name": "stdout",
     "output_type": "stream",
     "text": [
      "======================================================================\n",
      "📌 ADVANCED: Multiple aggregations\n",
      "======================================================================\n",
      "Multiple Aggregations:\n",
      "        release_year                    show_id title\n",
      "                 min   max         mean   count count\n",
      "type                                                 \n",
      "Movie           1942  2021  2013.121514    6131  6131\n",
      "TV Show         1925  2021  2016.605755    2676  2676\n",
      "\n"
     ]
    }
   ],
   "source": [
    "# ============================================================================\n",
    "# MULTIPLE AGGREGATIONS ON MULTIPLE COLUMNS\n",
    "# ============================================================================\n",
    "\n",
    "print(\"=\"*70)\n",
    "print(\"📌 ADVANCED: Multiple aggregations\")\n",
    "print(\"=\"*70)\n",
    "\n",
    "advanced_agg = df.groupby('type').agg({\n",
    "    'release_year': ['min','max','mean'],\n",
    "    'show_id':'count',\n",
    "    'title':'count'\n",
    "})\n",
    "\n",
    "print(\"Multiple Aggregations:\")\n",
    "print(advanced_agg)\n",
    "print()"
   ]
  },
  {
   "cell_type": "code",
   "execution_count": 80,
   "id": "9a7d03aa",
   "metadata": {},
   "outputs": [
    {
     "name": "stdout",
     "output_type": "stream",
     "text": [
      "======================================================================\n",
      "📌 FILTERING GROUPS\n",
      "======================================================================\n"
     ]
    }
   ],
   "source": [
    "# ============================================================================\n",
    "# FILTERING GROUPS\n",
    "# ============================================================================\n",
    "\n",
    "print(\"=\"*70)\n",
    "print(\"📌 FILTERING GROUPS\")\n",
    "print(\"=\"*70)\n",
    "\n",
    "\n"
   ]
  },
  {
   "cell_type": "code",
   "execution_count": 81,
   "id": "7c061e04",
   "metadata": {},
   "outputs": [
    {
     "name": "stdout",
     "output_type": "stream",
     "text": [
      "======================================================================\n",
      "📌 FILTERING GROUPS\n",
      "======================================================================\n",
      "Titles with popular ratings (>100 count): 8667\n",
      "\n",
      "Popular ratings:\n",
      "TV-MA    3207\n",
      "TV-14    2160\n",
      "TV-PG     863\n",
      "R         799\n",
      "PG-13     490\n",
      "TV-Y7     334\n",
      "TV-Y      307\n",
      "PG        287\n",
      "TV-G      220\n",
      "Name: rating, dtype: int64\n",
      "\n",
      "======================================================================\n",
      "📌 CUSTOM FUNCTIONS WITH GROUPBY\n",
      "======================================================================\n",
      "Release year range by type:\n",
      "type\n",
      "Movie      79\n",
      "TV Show    96\n",
      "Name: release_year, dtype: int64\n",
      "\n",
      "Custom statistics:\n",
      "type                \n",
      "Movie    range            79.0\n",
      "         median         2016.0\n",
      "         most_common    2017.0\n",
      "TV Show  range            96.0\n",
      "         median         2018.0\n",
      "         most_common    2020.0\n",
      "Name: release_year, dtype: float64\n",
      "\n",
      "======================================================================\n",
      "🎬 REAL-WORLD ANALYSIS EXAMPLES:\n",
      "======================================================================\n",
      "1️⃣ Top 10 countries producing Netflix content:\n",
      "United States     2818\n",
      "India              972\n",
      "United Kingdom     419\n",
      "Japan              245\n",
      "South Korea        199\n",
      "Canada             181\n",
      "Spain              145\n",
      "France             124\n",
      "Mexico             110\n",
      "Egypt              106\n",
      "Name: country, dtype: int64\n",
      "\n",
      "2️⃣ Content trends over time:\n",
      "year_added\n",
      "2012.0       3\n",
      "2013.0      11\n",
      "2014.0      24\n",
      "2015.0      82\n",
      "2016.0     429\n",
      "2017.0    1188\n",
      "2018.0    1649\n",
      "2019.0    2016\n",
      "2020.0    1879\n",
      "2021.0    1498\n",
      "dtype: int64\n",
      "\n",
      "3️⃣ Rating distribution by content type:\n",
      "rating   66 min  74 min  84 min   G  NC-17  NR   PG  PG-13    R  TV-14  TV-G  \\\n",
      "type                                                                           \n",
      "Movie         1       1       1  41      3  75  287    490  797   1427   126   \n",
      "TV Show       0       0       0   0      0   5    0      0    2    733    94   \n",
      "\n",
      "rating   TV-MA  TV-PG  TV-Y  TV-Y7  TV-Y7-FV  UR  \n",
      "type                                              \n",
      "Movie     2062    540   131    139         5   3  \n",
      "TV Show   1145    323   176    195         1   0  \n",
      "\n",
      "4️⃣ Average release year by type:\n",
      "type\n",
      "Movie      2013.121514\n",
      "TV Show    2016.605755\n",
      "Name: release_year, dtype: float64\n",
      "\n",
      "5️⃣ Top 10 directors by content count:\n",
      "Rajiv Chilaka             19\n",
      "Raúl Campos, Jan Suter    18\n",
      "Marcus Raboy              16\n",
      "Suhas Kadav               16\n",
      "Jay Karas                 14\n",
      "Cathy Garcia-Molina       13\n",
      "Martin Scorsese           12\n",
      "Youssef Chahine           12\n",
      "Jay Chapman               12\n",
      "Steven Spielberg          11\n",
      "Name: director, dtype: int64\n",
      "\n",
      "======================================================================\n",
      "📌 COMBINING GROUPBY WITH SORTING\n",
      "======================================================================\n",
      "Most common rating by type:\n",
      "type\n",
      "Movie      TV-MA\n",
      "TV Show    TV-MA\n",
      "Name: rating, dtype: object\n",
      "\n",
      "All ratings sorted by count:\n",
      "rating\n",
      "TV-MA       3207\n",
      "TV-14       2160\n",
      "TV-PG        863\n",
      "R            799\n",
      "PG-13        490\n",
      "TV-Y7        334\n",
      "TV-Y         307\n",
      "PG           287\n",
      "TV-G         220\n",
      "NR            80\n",
      "G             41\n",
      "TV-Y7-FV       6\n",
      "UR             3\n",
      "NC-17          3\n",
      "74 min         1\n",
      "84 min         1\n",
      "66 min         1\n",
      "dtype: int64\n",
      "\n",
      "======================================================================\n",
      "📚 GROUPBY METHODS SUMMARY:\n",
      "======================================================================\n",
      "\n",
      "BASIC GROUPBY:\n",
      "  df.groupby('col')              → Group by one column\n",
      "  df.groupby(['col1', 'col2'])   → Group by multiple columns\n",
      "  \n",
      "AGGREGATION FUNCTIONS:\n",
      "  .size()                        → Count rows in each group\n",
      "  .count()                       → Count non-null values\n",
      "  .sum()                         → Sum values\n",
      "  .mean()                        → Average\n",
      "  .median()                      → Median\n",
      "  .min() / .max()                → Minimum/Maximum\n",
      "  .std()                         → Standard deviation\n",
      "  .describe()                    → Multiple statistics\n",
      "  \n",
      "ADVANCED:\n",
      "  .agg(['func1', 'func2'])       → Multiple aggregations\n",
      "  .agg({'col1': 'func1'})        → Different functions per column\n",
      "  .apply(custom_function)        → Custom function\n",
      "  .filter(condition)             → Filter groups\n",
      "  \n",
      "RESHAPING:\n",
      "  .unstack()                     → Pivot to wide format\n",
      "  .reset_index()                 → Convert index to columns\n",
      "\n",
      "======================================================================\n"
     ]
    }
   ],
   "source": [
    "\n",
    "# ============================================================================\n",
    "# FILTERING GROUPS\n",
    "# ============================================================================\n",
    "\n",
    "print(\"=\"*70)\n",
    "print(\"📌 FILTERING GROUPS\")\n",
    "print(\"=\"*70)\n",
    "\n",
    "# Show only ratings that have more than 100 titles\n",
    "popular_ratings = df.groupby('rating').filter(lambda x: len(x) > 100)\n",
    "print(f\"Titles with popular ratings (>100 count): {len(popular_ratings)}\")\n",
    "print()\n",
    "\n",
    "# Which ratings are popular?\n",
    "print(\"Popular ratings:\")\n",
    "print(popular_ratings['rating'].value_counts())\n",
    "print()\n",
    "\n",
    "# ============================================================================\n",
    "# APPLYING CUSTOM FUNCTIONS\n",
    "# ============================================================================\n",
    "\n",
    "print(\"=\"*70)\n",
    "print(\"📌 CUSTOM FUNCTIONS WITH GROUPBY\")\n",
    "print(\"=\"*70)\n",
    "\n",
    "# Custom function: range of release years\n",
    "def year_range(series):\n",
    "    return series.max() - series.min()\n",
    "\n",
    "# Apply custom function\n",
    "ranges = df.groupby('type')['release_year'].apply(year_range)\n",
    "print(\"Release year range by type:\")\n",
    "print(ranges)\n",
    "print()\n",
    "\n",
    "# Multiple custom functions\n",
    "def custom_stats(series):\n",
    "    return pd.Series({\n",
    "        'range': series.max() - series.min(),\n",
    "        'median': series.median(),\n",
    "        'most_common': series.mode()[0] if len(series.mode()) > 0 else None\n",
    "    })\n",
    "\n",
    "custom_analysis = df.groupby('type')['release_year'].apply(custom_stats)\n",
    "print(\"Custom statistics:\")\n",
    "print(custom_analysis)\n",
    "print()\n",
    "\n",
    "# ============================================================================\n",
    "# REAL-WORLD EXAMPLES\n",
    "# ============================================================================\n",
    "\n",
    "print(\"=\"*70)\n",
    "print(\"🎬 REAL-WORLD ANALYSIS EXAMPLES:\")\n",
    "print(\"=\"*70)\n",
    "\n",
    "# Example 1: Top 10 countries by content production\n",
    "print(\"1️⃣ Top 10 countries producing Netflix content:\")\n",
    "# Note: country column might have multiple countries, but let's use it simply\n",
    "top_countries = df['country'].value_counts().head(10)\n",
    "print(top_countries)\n",
    "print()\n",
    "\n",
    "# Example 2: Content added per year\n",
    "print(\"2️⃣ Content trends over time:\")\n",
    "# Extract year from date_added\n",
    "df['year_added'] = pd.to_datetime(df['date_added'], errors='coerce').dt.year\n",
    "yearly_content = df.groupby('year_added').size().sort_index()\n",
    "print(yearly_content.tail(10))  # Last 10 years\n",
    "print()\n",
    "\n",
    "# Example 3: Rating distribution by type\n",
    "print(\"3️⃣ Rating distribution by content type:\")\n",
    "rating_by_type = df.groupby(['type', 'rating']).size().unstack(fill_value=0)\n",
    "print(rating_by_type)\n",
    "print()\n",
    "\n",
    "# Example 4: Which type has newer content on average?\n",
    "print(\"4️⃣ Average release year by type:\")\n",
    "avg_release = df.groupby('type')['release_year'].mean()\n",
    "print(avg_release)\n",
    "print()\n",
    "\n",
    "# Example 5: Most prolific directors\n",
    "print(\"5️⃣ Top 10 directors by content count:\")\n",
    "# Filter out 'Unknown Director' and missing values\n",
    "directors = df[df['director'].notna() & (df['director'] != 'Unknown Director')]\n",
    "top_directors = directors['director'].value_counts().head(10)\n",
    "print(top_directors)\n",
    "print()\n",
    "\n",
    "# ============================================================================\n",
    "# GROUPBY + SORTING\n",
    "# ============================================================================\n",
    "\n",
    "print(\"=\"*70)\n",
    "print(\"📌 COMBINING GROUPBY WITH SORTING\")\n",
    "print(\"=\"*70)\n",
    "\n",
    "# Find most common rating for each type\n",
    "most_common_rating = df.groupby('type')['rating'].agg(\n",
    "    lambda x: x.value_counts().index[0]\n",
    ")\n",
    "print(\"Most common rating by type:\")\n",
    "print(most_common_rating)\n",
    "print()\n",
    "\n",
    "# Count and sort\n",
    "rating_counts = df.groupby('rating').size().sort_values(ascending=False)\n",
    "print(\"All ratings sorted by count:\")\n",
    "print(rating_counts)\n",
    "print()\n",
    "\n",
    "# ============================================================================\n",
    "# QUICK REFERENCE CHEAT SHEET\n",
    "# ============================================================================\n",
    "\n",
    "print(\"=\"*70)\n",
    "print(\"📚 GROUPBY METHODS SUMMARY:\")\n",
    "print(\"=\"*70)\n",
    "print(\"\"\"\n",
    "BASIC GROUPBY:\n",
    "  df.groupby('col')              → Group by one column\n",
    "  df.groupby(['col1', 'col2'])   → Group by multiple columns\n",
    "  \n",
    "AGGREGATION FUNCTIONS:\n",
    "  .size()                        → Count rows in each group\n",
    "  .count()                       → Count non-null values\n",
    "  .sum()                         → Sum values\n",
    "  .mean()                        → Average\n",
    "  .median()                      → Median\n",
    "  .min() / .max()                → Minimum/Maximum\n",
    "  .std()                         → Standard deviation\n",
    "  .describe()                    → Multiple statistics\n",
    "  \n",
    "ADVANCED:\n",
    "  .agg(['func1', 'func2'])       → Multiple aggregations\n",
    "  .agg({'col1': 'func1'})        → Different functions per column\n",
    "  .apply(custom_function)        → Custom function\n",
    "  .filter(condition)             → Filter groups\n",
    "  \n",
    "RESHAPING:\n",
    "  .unstack()                     → Pivot to wide format\n",
    "  .reset_index()                 → Convert index to columns\n",
    "\"\"\")\n",
    "print(\"=\"*70)\n",
    "\n",
    "# ============================================================================\n",
    "# YOUR TURN TO EXPERIMENT!\n",
    "# ============================================================================\n",
    "# Try these:\n",
    "# 1. df.groupby('rating').size()                    - Count by rating\n",
    "# 2. df.groupby('type')['release_year'].max()       - Latest release by type\n",
    "# 3. df.groupby('rating')['release_year'].mean()    - Avg year by rating\n",
    "# 4. df.groupby(['type', 'rating']).size()          - Count by type AND rating\n",
    "# 5. df['country'].value_counts().head(20)          - Top 20 countries\n",
    "# 6. df.groupby('type')['release_year'].describe()  - Full stats by type"
   ]
  },
  {
   "cell_type": "code",
   "execution_count": null,
   "id": "3fd33127",
   "metadata": {},
   "outputs": [],
   "source": []
  },
  {
   "cell_type": "code",
   "execution_count": null,
   "id": "1925fc0b",
   "metadata": {},
   "outputs": [],
   "source": []
  }
 ],
 "metadata": {
  "kernelspec": {
   "display_name": "Python 3 (ipykernel)",
   "language": "python",
   "name": "python3"
  },
  "language_info": {
   "codemirror_mode": {
    "name": "ipython",
    "version": 3
   },
   "file_extension": ".py",
   "mimetype": "text/x-python",
   "name": "python",
   "nbconvert_exporter": "python",
   "pygments_lexer": "ipython3",
   "version": "3.9.7"
  }
 },
 "nbformat": 4,
 "nbformat_minor": 5
}
